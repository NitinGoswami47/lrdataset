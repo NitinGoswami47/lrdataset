{
  "nbformat": 4,
  "nbformat_minor": 0,
  "metadata": {
    "accelerator": "GPU",
    "colab": {
      "name": "lr data Machine Learning Project.ipynb",
      "provenance": []
    },
    "kernelspec": {
      "display_name": "Python 3",
      "name": "python3"
    }
  },
  "cells": [
    {
      "cell_type": "code",
      "metadata": {
        "colab": {
          "base_uri": "https://localhost:8080/",
          "height": 224
        },
        "id": "5d6_Y4U2Ttv-",
        "outputId": "1adf7577-8595-40b1-f4db-4ab42971d3fc"
      },
      "source": [
        "import pandas as pd\n",
        "import numpy as np\n",
        "from sklearn import model_selection\n",
        "from sklearn.linear_model import LinearRegression\n",
        "import matplotlib.pyplot as plt\n",
        "\n",
        "#Importing and reading file using pandas\n",
        "df = pd.read_csv('/content/Irdata.csv')\n",
        "df.head()\n"
      ],
      "execution_count": 14,
      "outputs": [
        {
          "output_type": "execute_result",
          "data": {
            "text/html": [
              "<div>\n",
              "<style scoped>\n",
              "    .dataframe tbody tr th:only-of-type {\n",
              "        vertical-align: middle;\n",
              "    }\n",
              "\n",
              "    .dataframe tbody tr th {\n",
              "        vertical-align: top;\n",
              "    }\n",
              "\n",
              "    .dataframe thead th {\n",
              "        text-align: right;\n",
              "    }\n",
              "</style>\n",
              "<table border=\"1\" class=\"dataframe\">\n",
              "  <thead>\n",
              "    <tr style=\"text-align: right;\">\n",
              "      <th></th>\n",
              "      <th>cases</th>\n",
              "      <th>increasingrate</th>\n",
              "      <th>decreasingrate</th>\n",
              "      <th>time</th>\n",
              "    </tr>\n",
              "  </thead>\n",
              "  <tbody>\n",
              "    <tr>\n",
              "      <th>0</th>\n",
              "      <td>18</td>\n",
              "      <td>15.960</td>\n",
              "      <td>53.13</td>\n",
              "      <td>1121.8739</td>\n",
              "    </tr>\n",
              "    <tr>\n",
              "      <th>1</th>\n",
              "      <td>21</td>\n",
              "      <td>16.815</td>\n",
              "      <td>52.58</td>\n",
              "      <td>1131.5066</td>\n",
              "    </tr>\n",
              "    <tr>\n",
              "      <th>2</th>\n",
              "      <td>38</td>\n",
              "      <td>16.815</td>\n",
              "      <td>50.38</td>\n",
              "      <td>1135.9407</td>\n",
              "    </tr>\n",
              "    <tr>\n",
              "      <th>3</th>\n",
              "      <td>26</td>\n",
              "      <td>17.195</td>\n",
              "      <td>49.06</td>\n",
              "      <td>1136.3994</td>\n",
              "    </tr>\n",
              "    <tr>\n",
              "      <th>4</th>\n",
              "      <td>18</td>\n",
              "      <td>17.290</td>\n",
              "      <td>48.07</td>\n",
              "      <td>1137.0110</td>\n",
              "    </tr>\n",
              "  </tbody>\n",
              "</table>\n",
              "</div>"
            ],
            "text/plain": [
              "   cases  increasingrate  decreasingrate       time\n",
              "0     18          15.960           53.13  1121.8739\n",
              "1     21          16.815           52.58  1131.5066\n",
              "2     38          16.815           50.38  1135.9407\n",
              "3     26          17.195           49.06  1136.3994\n",
              "4     18          17.290           48.07  1137.0110"
            ]
          },
          "metadata": {
            "tags": []
          },
          "execution_count": 14
        }
      ]
    },
    {
      "cell_type": "code",
      "metadata": {
        "id": "zPzWp_93hXV7"
      },
      "source": [
        "#Using multi linear regression as the values are continuous where x are independent\r\n",
        "#values and y : dependent values\r\n",
        "y = df['time']\r\n",
        "x = df[['cases','increasingrate','decreasingrate']]"
      ],
      "execution_count": 15,
      "outputs": []
    },
    {
      "cell_type": "code",
      "metadata": {
        "id": "tQeOqcVDkAfg"
      },
      "source": [
        "#Function named CasesReg for using linear regression model and training the model\r\n",
        "#with given values\r\n",
        "def CasesReg(x,y):\r\n",
        "  from sklearn.linear_model import LinearRegression\r\n",
        "  reg = LinearRegression()\r\n",
        "  reg.fit(x,y)\r\n",
        "  return reg\r\n"
      ],
      "execution_count": 16,
      "outputs": []
    },
    {
      "cell_type": "code",
      "metadata": {
        "id": "FvuYqgc2kHKl"
      },
      "source": [
        "#train_test_split is a function in Sklearn model selection for splitting data \r\n",
        "#arrays into two subsets: for training data and for testing data. \r\n",
        "#With this function, you don't need to divide the dataset manually.\r\n",
        "x_train, x_test, y_train, y_test = model_selection.train_test_split(x,y)\r\n",
        "\r\n",
        "#Passing training data to my Linear regression model\r\n",
        "reg = CasesReg(x_train,y_train)"
      ],
      "execution_count": 17,
      "outputs": []
    },
    {
      "cell_type": "code",
      "metadata": {
        "colab": {
          "base_uri": "https://localhost:8080/"
        },
        "id": "OoMI0lPnkMQI",
        "outputId": "ecc4a93c-43ac-47e6-c0be-63bbf424c217"
      },
      "source": [
        "#Using predict to get predicted values of y\r\n",
        "y_pred = reg.predict(x_test)\r\n",
        "y_pred"
      ],
      "execution_count": 19,
      "outputs": [
        {
          "output_type": "execute_result",
          "data": {
            "text/plain": [
              "array([ 1.10742880e+03, -4.79327663e+02, -3.42880730e+02,  2.08794475e+04,\n",
              "        1.88854843e+04,  5.04840116e+04,  3.71937290e+03,  1.68149053e+04,\n",
              "        2.79041193e+04,  2.15166362e+04,  1.40413594e+04,  6.92560747e+03,\n",
              "        1.90983701e+04,  2.18921446e+04,  3.65706563e+04, -1.69643096e+03,\n",
              "        2.91155302e+04,  1.04553708e+04,  5.41847862e+03,  2.35956068e+04,\n",
              "        2.39295745e+04,  3.02213576e+04,  3.58106117e+03,  1.84912089e+04,\n",
              "        2.59676922e+04,  3.14680273e+04,  1.23910325e+04,  5.32957506e+03,\n",
              "        3.59717518e+03,  6.75654972e+03,  2.14411104e+04,  8.85036368e+03,\n",
              "        2.27821114e+04,  1.85549442e+04,  2.27513096e+04,  1.52858042e+04,\n",
              "        1.74560398e+04,  8.24222025e+03,  9.98775599e+03,  1.36089618e+04,\n",
              "        8.15634935e+03,  1.11891970e+04, -6.33812243e+02,  2.69506421e+04,\n",
              "       -6.14373365e+03,  2.06161633e+04,  1.60230103e+04,  1.48756948e+04,\n",
              "        5.00572475e+03,  1.80680156e+04,  1.06906819e+03,  2.18175651e+04,\n",
              "        1.76186018e+04, -2.33348684e+03,  7.68461979e+03,  2.54783526e+04,\n",
              "        1.69331217e+03,  4.13805661e+03,  2.25055742e+04,  1.68418276e+04,\n",
              "        3.51375404e+04, -1.73049925e+03,  1.10675462e+04, -9.44629938e+03,\n",
              "        2.50349997e+04,  7.40769074e+03,  1.80869350e+04,  1.24237934e+04,\n",
              "        1.71550858e+04, -3.52316262e+03,  8.30504240e+03,  3.66529502e+04,\n",
              "        1.83689445e+04,  6.40226389e+03,  1.89653360e+04,  6.71526402e+02,\n",
              "       -4.70895819e+03, -4.92773277e+03,  3.07105337e+04, -1.35573972e+03,\n",
              "        3.61292821e+04,  8.91476759e+03, -1.34316657e+03,  1.27765610e+04,\n",
              "        3.84040220e+03,  2.74894254e+04,  9.41245723e+03, -5.99202516e+03,\n",
              "        1.95441958e+04,  3.89456323e+03,  2.85578966e+04,  4.93473077e+03,\n",
              "        1.07309452e+04,  1.79047388e+03,  1.21613806e+04,  7.74686998e+03,\n",
              "        3.07089047e+04,  1.93787145e+04,  1.97931003e+04, -8.57670931e+03,\n",
              "        1.56756758e+04, -3.05033932e+03,  2.59255936e+04,  2.59569978e+04,\n",
              "        1.54877784e+04,  4.55247309e+03,  9.17282628e+03,  9.79364877e+03,\n",
              "        1.34912070e+04,  2.23093273e+04,  8.10598700e+03,  1.09498190e+04,\n",
              "        1.71339324e+04,  1.14369943e+04,  1.21359483e+04,  1.29633538e+04,\n",
              "        2.51080292e+03,  3.45899868e+04,  2.27171884e+03,  2.01894015e+04,\n",
              "        8.85215618e+03,  1.47106575e+04,  3.66423557e+04,  1.04463134e+04,\n",
              "        3.50707262e+04,  1.40151917e+04,  1.66544800e+04,  1.40497597e+04,\n",
              "        3.20434814e+03,  3.07043951e+04,  3.64889013e+04,  2.35693087e+04,\n",
              "        2.73416378e+03,  2.29054579e+04,  3.52729996e+04,  1.73052743e+04,\n",
              "        8.11423967e+03,  3.16115507e+04,  2.98968387e+04,  3.10854788e+04,\n",
              "        1.97506079e+03,  2.06572576e+04, -1.37168098e+03,  1.21384843e+04,\n",
              "       -6.08504715e+03,  3.24992036e+04,  3.11213360e+02, -5.70121303e+03,\n",
              "        1.68294487e+03,  8.10958909e+03,  2.10778145e+04,  6.08059196e+03,\n",
              "        2.06801619e+04,  5.32710524e+03,  1.26231733e+04,  1.33076636e+04,\n",
              "        2.77374560e+04, -6.05135913e+03,  9.57014094e+03,  1.90265403e+03,\n",
              "        2.65053131e+04,  2.54669479e+04, -2.97262919e+03,  7.33674945e+03,\n",
              "        3.62169951e+04,  1.13477466e+04,  2.89849248e+04,  3.60400110e+04,\n",
              "        2.28746868e+04,  3.29557683e+04,  2.34642133e+04,  3.15475441e+04,\n",
              "        2.50771510e+04,  1.78738024e+04,  1.18393478e+04,  3.00544807e+04,\n",
              "        1.03706518e+04,  1.79787121e+04, -1.17747707e+03,  1.13104511e+04,\n",
              "        1.85335684e+04,  7.32600187e+03,  6.28400945e+03, -4.23492949e+02,\n",
              "        1.60099265e+04,  1.39529691e+04,  1.71898754e+04, -8.61013643e+03,\n",
              "       -1.42821878e+03, -5.34455067e+02, -8.72322788e+03, -1.94022138e+03,\n",
              "       -2.98852153e+03,  2.57816710e+04,  2.11280409e+04, -2.80682086e+03,\n",
              "        3.18650230e+03,  1.28063474e+04,  1.71504934e+04,  3.12233055e+04,\n",
              "        1.17099300e+04,  3.31734096e+03,  1.89052090e+04,  1.83429292e+04,\n",
              "        1.93089832e+04,  2.61879537e+04,  2.06046863e+04,  2.32462661e+04,\n",
              "       -9.03565637e+03,  1.34584321e+04,  3.50203735e+04,  2.37857935e+04,\n",
              "        1.97633501e+04,  8.08807194e+03,  2.34319351e+04,  5.16774327e+04,\n",
              "       -5.99694758e+03,  9.53901157e+03,  2.41249084e+04,  2.88742020e+02,\n",
              "        7.67571432e+03,  9.62109669e+03, -7.20009995e+03,  1.17731851e+04,\n",
              "        3.63247466e+04,  4.99912866e+03,  8.91400704e+03,  2.59559323e+04,\n",
              "        3.06874751e+03,  3.52465263e+04,  2.54769153e+04,  6.91071456e+03,\n",
              "        5.28767303e+03,  4.44408772e+01,  2.53061312e+04,  6.63776241e+03,\n",
              "        2.28103937e+04,  1.22290057e+04,  2.30391546e+04, -7.36072428e+03,\n",
              "        1.24435345e+04, -5.32762462e+01,  1.95900796e+04,  9.58007767e+03,\n",
              "        1.70909317e+04,  1.45469466e+04,  7.32244994e+03, -5.81998927e+03,\n",
              "        2.92083665e+04,  9.26905341e+03,  3.68012130e+03,  1.22569164e+04,\n",
              "        2.51774898e+04,  2.55060189e+04,  2.28964367e+04,  3.80961802e+04,\n",
              "        2.52668796e+04,  3.89695037e+03,  2.36479092e+04,  5.39252457e+03,\n",
              "       -2.87275091e+03,  3.22626462e+03, -3.69048462e+02,  1.49872227e+04,\n",
              "        7.59453618e+03,  3.07248467e+04,  1.58398362e+04,  7.27011448e+03,\n",
              "        8.77683319e+03,  2.45923455e+04,  2.69701776e+04,  1.04622388e+04,\n",
              "        1.73041552e+03,  2.79826225e+04,  7.64764325e+03,  3.17470077e+03,\n",
              "        1.66584036e+04,  8.27265885e+03,  4.50506073e+03,  3.59411849e+04,\n",
              "        2.58654108e+04, -5.76907288e+03,  6.74031325e+03,  2.41061415e+04,\n",
              "        2.51155116e+04,  1.10546178e+04,  3.60487304e+04,  3.72634986e+04,\n",
              "        1.68814484e+04,  2.18267584e+04,  1.88341979e+04,  4.11971475e+03,\n",
              "        1.40049132e+04,  3.01821060e+04,  1.95056295e+04,  1.53415753e+03,\n",
              "        2.33926835e+04,  2.25317530e+04,  2.21930736e+04, -1.71131895e+03,\n",
              "        7.78896859e+03,  7.24269564e+03,  1.61145974e+04,  9.93390853e+03,\n",
              "        4.59872319e+03, -2.13722885e+03,  1.27896449e+04,  1.82614155e+04,\n",
              "        5.62295916e+03,  3.72733105e+03,  1.15653301e+04,  2.89888485e+04,\n",
              "        1.22551735e+04,  2.58113796e+04,  1.74849743e+04,  8.33653495e+03,\n",
              "        5.09122644e+03,  2.19190228e+04,  2.31761877e+04,  1.84295497e+04,\n",
              "        1.74842639e+04,  8.52719069e+03,  7.64190201e+03,  2.56329391e+03,\n",
              "        2.14441627e+04,  1.45472852e+04,  9.17029032e+03,  3.10547683e+04,\n",
              "       -2.70279110e+03,  1.24499611e+04,  2.92243581e+04,  1.30843279e+04,\n",
              "        8.05096804e+03,  5.52583305e+03,  3.57979273e+04])"
            ]
          },
          "metadata": {
            "tags": []
          },
          "execution_count": 19
        }
      ]
    },
    {
      "cell_type": "code",
      "metadata": {
        "colab": {
          "base_uri": "https://localhost:8080/"
        },
        "id": "DQ5-bSzDkUKm",
        "outputId": "8fc8d2a4-5b29-48d9-8022-096bd2a89e8e"
      },
      "source": [
        "#Calculating efficiency. It internally calculates y_pred again and gives the \r\n",
        "#efficiency\r\n",
        "reg.score(x_test,y_test)"
      ],
      "execution_count": 20,
      "outputs": [
        {
          "output_type": "execute_result",
          "data": {
            "text/plain": [
              "0.8717148205152547"
            ]
          },
          "metadata": {
            "tags": []
          },
          "execution_count": 20
        }
      ]
    },
    {
      "cell_type": "code",
      "metadata": {
        "colab": {
          "base_uri": "https://localhost:8080/",
          "height": 279
        },
        "id": "1cLfSbUhkcWj",
        "outputId": "799f3875-a863-4594-8fd7-7275436ccc12"
      },
      "source": [
        "#Plotting graph using matplotlib.\r\n",
        "plt.plot(x,reg.predict(x),'*')\r\n",
        "plt.legend(labels=['cases','increasingrate','decreasingrate'])\r\n",
        "plt.xlabel(\"Cases Rate\")\r\n",
        "plt.ylabel(\"Time\")\r\n",
        "plt.show()"
      ],
      "execution_count": 21,
      "outputs": [
        {
          "output_type": "display_data",
          "data": {
            "image/png": "[encoded data removed]",
            "text/plain": [
              "<Figure size 432x288 with 1 Axes>"
            ]
          },
          "metadata": {
            "tags": [],
            "needs_background": "light"
          }
        }
      ]
    },
    {
      "cell_type": "code",
      "metadata": {
        "id": "WWxDa3Bhkdhe"
      },
      "source": [
        ""
      ],
      "execution_count": null,
      "outputs": []
    }
  ]
}